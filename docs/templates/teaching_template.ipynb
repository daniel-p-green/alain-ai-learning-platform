{
  "cells": [
    {
      "cell_type": "markdown",
      "metadata": {},
      "source": [
        "# Teaching Template: Using New AI Models\n",
        "\n",
        "- Outcomes: Learn setup, make a minimal call, understand capabilities/limits, add an evaluation, and track cost.\n",
        "- Audience: Practitioners new to this model family.\n",
        "- Time: ~30–60 minutes.\n",
        "\n",
        "Prerequisites:\n",
        "- Python 3.10+; optional GPU for Unsloth/HF fine-tuning.\n",
        "- Environment variables: `OPENAI_API_KEY` and/or `ANTHROPIC_API_KEY` if using APIs.\n",
        "- Costs: API examples may incur small charges.\n",
        "\n",
        "> Tip: Run this notebook top-to-bottom on Colab or your environment.\n"
      ]
    },
    {
      "cell_type": "markdown",
      "metadata": {},
      "source": [
        "## Setup\n",
        "- Prints environment info\n",
        "- Installs optional packages if missing\n",
        "- Sets seeds for reproducibility\n"
      ]
    },
    {
      "cell_type": "code",
      "execution_count": null,
      "metadata": {},
      "outputs": [],
      "source": [
        "import os, sys, platform, random, time\n",
        "import subprocess\n",
        "\n",
        "print('Python:', sys.version)\n",
        "print('Platform:', platform.platform())\n",
        "\n",
        "def sh(cmd):\n",
        "    try:\n",
        "        return subprocess.check_output(cmd, shell=True, text=True).strip()\n",
        "    except Exception as e:\n",
        "        return f'ERR: {e}'\n",
        "\n",
        "print('pip openai:', sh('python -m pip show openai | sed -n \"s/^Version: //p\"'))\n",
        "print('pip anthropic:', sh('python -m pip show anthropic | sed -n \"s/^Version: //p\"'))\n",
        "print('pip transformers:', sh('python -m pip show transformers | sed -n \"s/^Version: //p\"'))\n",
        "print('pip unsloth:', sh('python -m pip show unsloth | sed -n \"s/^Version: //p\"'))\n",
        "\n",
        "# Optional: seed setting\n",
        "import numpy as np\n",
        "SEED = 42\n",
        "random.seed(SEED); np.random.seed(SEED)\n",
        "try:\n",
        "    import torch\n",
        "    torch.manual_seed(SEED)\n",
        "    if torch.cuda.is_available():\n",
        "        torch.cuda.manual_seed_all(SEED)\n",
        "        print('CUDA device:', torch.cuda.get_device_name(0))\n",
        "    else:\n",
        "        print('CUDA not available')\n",
        "except Exception as e:\n",
        "    print('Torch not installed; skipping torch seed.', e)\n"
      ]
    },
    {
      "cell_type": "markdown",
      "metadata": {},
      "source": [
        "## Secrets & Configuration\n",
        "Provide API keys via environment variables. This notebook reads them if present and skips API calls if missing.\n"
      ]
    },
    {
      "cell_type": "code",
      "execution_count": null,
      "metadata": {},
      "outputs": [],
      "source": [
        "from os import getenv\n",
        "OPENAI_API_KEY = getenv('OPENAI_API_KEY')\n",
        "ANTHROPIC_API_KEY = getenv('ANTHROPIC_API_KEY')\n",
        "\n",
        "def have(pkg):\n",
        "    try:\n",
        "        __import__(pkg)\n",
        "        return True\n",
        "    except Exception:\n",
        "        return False\n",
        "\n",
        "print('Have openai sdk:', have('openai'), 'Have key:', bool(OPENAI_API_KEY))\n",
        "print('Have anthropic sdk:', have('anthropic'), 'Have key:', bool(ANTHROPIC_API_KEY))\n"
      ]
    },
    {
      "cell_type": "markdown",
      "metadata": {},
      "source": [
        "## Quickstart: Minimal Calls\n",
        "Below are minimal examples for OpenAI and Anthropic. These cells gracefully no-op if SDK or keys are missing.\n"
      ]
    },
    {
      "cell_type": "code",
      "execution_count": null,
      "metadata": {},
      "outputs": [],
      "source": [
        "# OpenAI minimal chat completion\n",
        "try:\n",
        "    if have('openai') and OPENAI_API_KEY:\n",
        "        from openai import OpenAI\n",
        "        client = OpenAI(api_key=OPENAI_API_KEY)\n",
        "        resp = client.chat.completions.create(\n",
        "            model='gpt-4o-mini',\n",
        "            messages=[{'role':'user','content':'Say hello in 5 words.'}],\n",
        "            temperature=0\n",
        "        )\n",
        "        print(resp.choices[0].message.content)\n",
        "        usage = resp.usage\n",
        "        if usage:\n",
        "            print('Tokens total:', usage.total_tokens)\n",
        "    else:\n",
        "        print('OpenAI SDK or key missing; skipping.')\n",
        "except Exception as e:\n",
        "    print('OpenAI call error:', e)\n"
      ]
    },
    {
      "cell_type": "code",
      "execution_count": null,
      "metadata": {},
      "outputs": [],
      "source": [
        "# Anthropic minimal message\n",
        "try:\n",
        "    if have('anthropic') and ANTHROPIC_API_KEY:\n",
        "        import anthropic\n",
        "        ac = anthropic.Anthropic(api_key=ANTHROPIC_API_KEY)\n",
        "        msg = ac.messages.create(\n",
        "            model='claude-3-5-sonnet-latest',\n",
        "            max_tokens=64,\n",
        "            messages=[{'role':'user','content':'Say hello in 5 words.'}]\n",
        "        )\n",
        "        print(msg.content[0].text)\n",
        "    else:\n",
        "        print('Anthropic SDK or key missing; skipping.')\n",
        "except Exception as e:\n",
        "    print('Anthropic call error:', e)\n"
      ]
    },
    {
      "cell_type": "markdown",
      "metadata": {},
      "source": [
        "## Model Capabilities & Limits\n",
        "Briefly summarize what the model is good at, known constraints (context, rate limits), and recommended parameters.\n"
      ]
    },
    {
      "cell_type": "markdown",
      "metadata": {},
      "source": [
        "## Guided Steps\n",
        "1. Define the task\n",
        "2. Design the prompt or schema\n",
        "3. Add a tool (if needed)\n",
        "4. Run a small batch\n",
        "5. Evaluate results and iterate\n"
      ]
    },
    {
      "cell_type": "code",
      "execution_count": null,
      "metadata": {},
      "outputs": [],
      "source": [
        "# Example: structured output validation with pydantic (optional)\n",
        "try:\n",
        "    from pydantic import BaseModel\n",
        "    class Item(BaseModel):\n",
        "        title: str\n",
        "        rating: int\n",
        "    print('Pydantic available; define schemas for JSON outputs.')\n",
        "except Exception:\n",
        "    print('Pydantic not installed; skip schema validation example.')\n"
      ]
    },
    {
      "cell_type": "markdown",
      "metadata": {},
      "source": [
        "## Evaluation\n",
        "Add a tiny golden set or a simple acceptance test to verify success.\n"
      ]
    },
    {
      "cell_type": "code",
      "execution_count": null,
      "metadata": {},
      "outputs": [],
      "source": [
        "# Simple acceptance test example\n",
        "def is_hello_five_words(text: str) -> bool:\n",
        "    return len(text.split()) == 5\n",
        "\n",
        "print('Example check:', is_hello_five_words('Hello from a friendly bot'))\n"
      ]
    },
    {
      "cell_type": "markdown",
      "metadata": {},
      "source": [
        "## Cost & Observability\n",
        "Show how to access token usage/cost where supported.\n"
      ]
    },
    {
      "cell_type": "code",
      "execution_count": null,
      "metadata": {},
      "outputs": [],
      "source": [
        "# Example: OpenAI usage (if available on the response)\n",
        "# See quickstart cell above for usage fields.\n",
        "pass\n"
      ]
    },
    {
      "cell_type": "code",
      "execution_count": null,
      "metadata": {},
      "outputs": [],
      "source": [
        "# Example: Anthropic admin usage/cost API (requires proper entitlements)\n",
        "print('Refer to Anthropic usage & cost API notebooks for end-to-end examples.')\n"
      ]
    },
    {
      "cell_type": "markdown",
      "metadata": {},
      "source": [
        "## Troubleshooting\n",
        "- 401/403: check API keys and org permissions\n",
        "- 429: add exponential backoff; reduce concurrency; shorten prompts\n",
        "- JSON errors: validate with schemas; enable JSON/structured modes if available\n",
        "- Timeouts: reduce payloads; increase timeout; retry idempotently\n"
      ]
    },
    {
      "cell_type": "markdown",
      "metadata": {},
      "source": [
        "## Exercises\n",
        "- Change the prompt to require a JSON schema and validate it\n",
        "- Add a tool/function call and parse its output\n",
        "- Create a 20-item golden set and compute accuracy\n",
        "- Measure average latency/tokens over 10 runs\n"
      ]
    },
    {
      "cell_type": "markdown",
      "metadata": {},
      "source": [
        "## Cleanup\n",
        "- Stop any background jobs or servers\n",
        "- Clear temp files or caches if created\n",
        "- Save artifacts/models if you trained locally\n"
      ]
    }
  ],
  "metadata": {
    "kernelspec": {
      "display_name": "Python 3",
      "language": "python",
      "name": "python3"
    },
    "language_info": {
      "name": "python",
      "version": "3.x"
    }
  },
  "nbformat": 4,
  "nbformat_minor": 5
}

