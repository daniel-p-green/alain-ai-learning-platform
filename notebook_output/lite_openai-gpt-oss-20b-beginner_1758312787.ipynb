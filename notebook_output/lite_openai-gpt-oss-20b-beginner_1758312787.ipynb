{
 "cells": [
  {
   "cell_type": "markdown",
   "id": "7f661366",
   "metadata": {},
   "source": [
    "# Lite Notebook · openai/gpt-oss-20b · Beginner\n",
    "\n",
    "Token‑light tutorial: environment setup + runnable calls. Uses OpenAI SDK against selected provider (Poe/OpenAI‑compatible/local).\n",
    "\n",
    "> Provider: `poe`  •  Model: `gpt-oss-20b`\n",
    "\n",
    "## Learning Objectives\n",
    "- Configure provider and API key correctly\n",
    "- Run a model call with safe defaults\n",
    "- Tune basic parameters and/or streaming\n",
    "- Record simple telemetry or ranking step\n"
   ]
  },
  {
   "cell_type": "code",
   "execution_count": null,
   "id": "e90db1a4",
   "metadata": {},
   "outputs": [],
   "source": [
    "# Optional installs (uncomment on Colab/fresh envs)\n",
    "# !pip -q install openai>=1.34.0 ipywidgets>=8.0.0\n"
   ]
  },
  {
   "cell_type": "code",
   "execution_count": null,
   "id": "b08b5238",
   "metadata": {},
   "outputs": [],
   "source": [
    "# Configure OpenAI-compatible client\n",
    "import os\n",
    "from getpass import getpass\n",
    "\n",
    "PROVIDER = 'poe'  # 'poe' or 'openai-compatible'\n",
    "os.environ.setdefault('OPENAI_BASE_URL', 'https://api.poe.com/v1')\n",
    "# Set your API key. For Poe, set POE_API_KEY or paste below.\n",
    "os.environ.setdefault('OPENAI_API_KEY', os.getenv('POE_API_KEY') or os.getenv('OPENAI_API_KEY') or '')\n",
    "if not os.environ.get('OPENAI_API_KEY'):\n",
    "    os.environ['OPENAI_API_KEY'] = getpass('Enter API key (input hidden): ')\n"
   ]
  },
  {
   "cell_type": "code",
   "execution_count": null,
   "id": "5ed76c20",
   "metadata": {
    "tags": [
     "smoke"
    ]
   },
   "outputs": [],
   "source": [
    "# Quick smoke test\n",
    "from openai import OpenAI\n",
    "import os\n",
    "base = os.environ.get('OPENAI_BASE_URL')\n",
    "key = os.environ.get('OPENAI_API_KEY')\n",
    "assert base and key, 'Please set OPENAI_BASE_URL and OPENAI_API_KEY env vars'\n",
    "client = OpenAI(base_url=base, api_key=key)\n",
    "resp = client.chat.completions.create(model='gpt-oss-20b', messages=[{\"role\":\"user\",\"content\":\"Hello from ALAIN\"}], max_tokens=32)\n",
    "print(resp.choices[0].message.content)\n"
   ]
  },
  {
   "cell_type": "markdown",
   "id": "cae32cda",
   "metadata": {},
   "source": [
    "## Step 1: Environment & Client Setup\n",
    "\n",
    "Configure OpenAI‑compatible client with provider defaults.\n",
    "\n",
    "Tip: Keep secrets in .env.local (POE_API_KEY or OPENAI_API_KEY).\n"
   ]
  },
  {
   "cell_type": "code",
   "execution_count": null,
   "id": "cebfded2",
   "metadata": {},
   "outputs": [],
   "source": [
    "# Run the step prompt using the configured provider\n",
    "PROMPT = '''Print the configured OPENAI_BASE_URL and run a 1‑line hello to verify.'''\n",
    "from openai import OpenAI\n",
    "import os\n",
    "client = OpenAI(base_url=os.environ['OPENAI_BASE_URL'], api_key=os.environ['OPENAI_API_KEY'])\n",
    "resp = client.chat.completions.create(model='gpt-oss-20b', messages=[{\"role\":\"user\",\"content\":PROMPT}], temperature=0.7, max_tokens=400)\n",
    "print(resp.choices[0].message.content)\n"
   ]
  },
  {
   "cell_type": "markdown",
   "id": "5c92a86b",
   "metadata": {},
   "source": [
    "## Step 2: First Chat Completion\n",
    "\n",
    "Send your brief to the model and print the reply.\n"
   ]
  },
  {
   "cell_type": "code",
   "execution_count": null,
   "id": "e8ea80e5",
   "metadata": {},
   "outputs": [],
   "source": [
    "# Run the step prompt using the configured provider\n",
    "PROMPT = '''Show a simple chat completion and a short note on Poe vs gateway setup.'''\n",
    "from openai import OpenAI\n",
    "import os\n",
    "client = OpenAI(base_url=os.environ['OPENAI_BASE_URL'], api_key=os.environ['OPENAI_API_KEY'])\n",
    "resp = client.chat.completions.create(model='gpt-oss-20b', messages=[{\"role\":\"user\",\"content\":PROMPT}], temperature=0.7, max_tokens=400)\n",
    "print(resp.choices[0].message.content)\n"
   ]
  },
  {
   "cell_type": "markdown",
   "id": "55ed5377",
   "metadata": {},
   "source": [
    "## Step 3: Adjust Parameters\n",
    "\n",
    "Experiment with temperature and max_tokens.\n"
   ]
  },
  {
   "cell_type": "code",
   "execution_count": null,
   "id": "c37beed9",
   "metadata": {},
   "outputs": [],
   "source": [
    "# Run the step prompt using the configured provider\n",
    "PROMPT = '''Respond to the same topic but more concise. Model: gpt-oss-20b'''\n",
    "from openai import OpenAI\n",
    "import os\n",
    "client = OpenAI(base_url=os.environ['OPENAI_BASE_URL'], api_key=os.environ['OPENAI_API_KEY'])\n",
    "resp = client.chat.completions.create(model='gpt-oss-20b', messages=[{\"role\":\"user\",\"content\":PROMPT}], temperature=0.7, max_tokens=400)\n",
    "print(resp.choices[0].message.content)\n"
   ]
  },
  {
   "cell_type": "markdown",
   "id": "b921f8a2",
   "metadata": {},
   "source": [
    "## Assessments\n"
   ]
  },
  {
   "cell_type": "code",
   "execution_count": null,
   "id": "c7d52af3",
   "metadata": {},
   "outputs": [],
   "source": [
    "# Assessment\n",
    "question = \"Which env var provides the Poe key?\"\n",
    "options = [\"OPENAI_BASE_URL\", \"POE_API_KEY\", \"NEXT_RUNTIME\", \"HF_TOKEN\"]\n",
    "correct_index = 1\n",
    "print('Q:', question)\n",
    "for i, o in enumerate(options):\n",
    "    print(f'{i}. {o}')\n",
    "choice = 0  # <- change this to your answer index\n",
    "print('Correct!' if choice == correct_index else 'Incorrect')\n",
    "print('Explanation:', \"Poe auth uses POE_API_KEY; the code maps it to OPENAI_API_KEY at runtime.\")\n"
   ]
  }
 ],
 "metadata": {
  "kernelspec": {
   "display_name": "Python 3",
   "language": "python",
   "name": "python3"
  },
  "language_info": {
   "name": "python"
  }
 },
 "nbformat": 4,
 "nbformat_minor": 5
}
